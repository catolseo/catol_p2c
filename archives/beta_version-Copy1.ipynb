{
 "cells": [
  {
   "cell_type": "code",
   "execution_count": 28,
   "metadata": {},
   "outputs": [
    {
     "name": "stdout",
     "output_type": "stream",
     "text": [
      "['<!DOCTYPE html>' '<html lang=\"en\" dir=\"ltr\">' '<head>' ..., '</div>'\n",
      " '</body>' '</html>']\n",
      "['' '' '' ..., '' '' '']\n",
      "{'...,': 1, '[[': 2, '<!doctype': 3, 'html>': 4, '<html': 5, 'lang=\"en\"': 6, 'dir=\"ltr\">': 7, '<head>': 8, '</div>': 9, '</body>': 10, '</html>': 11, ']': 12, '[': 13, ']]': 14}\n"
     ]
    }
   ],
   "source": [
    "from os import listdir\n",
    "from numpy import array\n",
    "from keras.preprocessing.text import Tokenizer\n",
    "from keras.preprocessing.sequence import pad_sequences\n",
    "from keras.utils import to_categorical\n",
    "from keras.preprocessing.image import load_img\n",
    "from keras.preprocessing.image import img_to_array\n",
    "from keras.applications.vgg16 import preprocess_input\n",
    "from nltk.tokenize import RegexpTokenizer\n",
    "import numpy as np\n",
    "\n",
    "\n",
    "num_words = 3\n",
    "tokenizer = Tokenizer(num_words=num_words, filters=' \\'\\t\\n', split=\"'\", char_level=False)\n",
    "\n",
    "# load doc into memory\n",
    "def load_doc(filename):\n",
    "    # open the file as read only\n",
    "    file = open(filename, 'r')\n",
    "    # read all text\n",
    "    text = file.read()\n",
    "    # close the file\n",
    "    file.close()\n",
    "    return text\n",
    "text = load_doc('html/86.html')\n",
    "text = text + ' ' + load_doc('html/87.html')\n",
    "text = text + ' ' + load_doc('html/88.html')\n",
    "text = text + ' ' + load_doc('html/89.html')\n",
    "text = text + ' ' + load_doc('html/90.html')\n",
    "\n",
    "regex = RegexpTokenizer('(<[^>]+>)|(\\w+)')\n",
    "tokens = np.array(regex.tokenize(text))\n",
    "tokens = tokens.T\n",
    "for i in tokens:\n",
    "    print(i)\n",
    "str1 = np.array2string(tokens, separator='', suppress_small=True)\n",
    "texts = []\n",
    "texts.append(str1)\n",
    "tokens = tokenizer.fit_on_texts(texts)\n",
    "print(tokenizer.word_index)"
   ]
  },
  {
   "cell_type": "code",
   "execution_count": null,
   "metadata": {
    "collapsed": true
   },
   "outputs": [],
   "source": []
  }
 ],
 "metadata": {
  "kernelspec": {
   "display_name": "Python 3",
   "language": "python",
   "name": "python3"
  },
  "language_info": {
   "codemirror_mode": {
    "name": "ipython",
    "version": 3
   },
   "file_extension": ".py",
   "mimetype": "text/x-python",
   "name": "python",
   "nbconvert_exporter": "python",
   "pygments_lexer": "ipython3",
   "version": "3.6.1"
  }
 },
 "nbformat": 4,
 "nbformat_minor": 2
}
